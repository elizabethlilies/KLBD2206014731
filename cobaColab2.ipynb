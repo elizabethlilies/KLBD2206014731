{
  "nbformat": 4,
  "nbformat_minor": 0,
  "metadata": {
    "colab": {
      "provenance": [],
      "authorship_tag": "ABX9TyPbJeSieNiQcqKpBMIF5HUA",
      "include_colab_link": true
    },
    "kernelspec": {
      "name": "python3",
      "display_name": "Python 3"
    },
    "language_info": {
      "name": "python"
    }
  },
  "cells": [
    {
      "cell_type": "markdown",
      "metadata": {
        "id": "view-in-github",
        "colab_type": "text"
      },
      "source": [
        "<a href=\"https://colab.research.google.com/github/elizabethlilies/KLBD2206014731/blob/main/cobaColab2.ipynb\" target=\"_parent\"><img src=\"https://colab.research.google.com/assets/colab-badge.svg\" alt=\"Open In Colab\"/></a>"
      ]
    },
    {
      "cell_type": "code",
      "execution_count": 1,
      "metadata": {
        "colab": {
          "base_uri": "https://localhost:8080/"
        },
        "id": "5HSp_j_xCtvk",
        "outputId": "78aeb6a4-f5d5-4847-c96c-c2d4dc54d36f"
      },
      "outputs": [
        {
          "output_type": "stream",
          "name": "stdout",
          "text": [
            "Looking in indexes: https://pypi.org/simple, https://us-python.pkg.dev/colab-wheels/public/simple/\n",
            "Collecting pyspark\n",
            "  Downloading pyspark-3.3.0.tar.gz (281.3 MB)\n",
            "\u001b[K     |████████████████████████████████| 281.3 MB 50 kB/s \n",
            "\u001b[?25hCollecting py4j==0.10.9.5\n",
            "  Downloading py4j-0.10.9.5-py2.py3-none-any.whl (199 kB)\n",
            "\u001b[K     |████████████████████████████████| 199 kB 45.8 MB/s \n",
            "\u001b[?25hBuilding wheels for collected packages: pyspark\n",
            "  Building wheel for pyspark (setup.py) ... \u001b[?25l\u001b[?25hdone\n",
            "  Created wheel for pyspark: filename=pyspark-3.3.0-py2.py3-none-any.whl size=281764026 sha256=a843c1699f31e7a1b0d12df2c5f5179db4d16fbbb0ceee704331626995ffd1cf\n",
            "  Stored in directory: /root/.cache/pip/wheels/7a/8e/1b/f73a52650d2e5f337708d9f6a1750d451a7349a867f928b885\n",
            "Successfully built pyspark\n",
            "Installing collected packages: py4j, pyspark\n",
            "Successfully installed py4j-0.10.9.5 pyspark-3.3.0\n"
          ]
        }
      ],
      "source": [
        "# Install pyspark\n",
        "!pip install pyspark\n",
        "# Import SparkSession\n",
        "from pyspark.sql import SparkSession\n",
        "# Create a Spark Session\n",
        "spark = SparkSession.builder.master(\"local[*]\").getOrCreate()\n",
        "# Check Spark Session Information\n",
        "spark\n",
        "# Import a Spark function from library\n",
        "from pyspark.sql.functions import col"
      ]
    },
    {
      "cell_type": "code",
      "source": [
        "from pydrive.auth import GoogleAuth\n",
        "from pydrive.drive import GoogleDrive\n",
        "from google.colab import auth\n",
        "from oauth2client.client import GoogleCredentials\n",
        "\n",
        "# Authenticate and create the PyDrive client\n",
        "auth.authenticate_user()\n",
        "gauth = GoogleAuth()\n",
        "gauth.credentials = GoogleCredentials.get_application_default()\n",
        "drive = GoogleDrive(gauth)"
      ],
      "metadata": {
        "id": "C6YnOF1WDOqm"
      },
      "execution_count": 2,
      "outputs": []
    },
    {
      "cell_type": "code",
      "metadata": {
        "id": "TTW6R-EBDiKK"
      },
      "source": [
        "#menampilkan dataset yang dibutuhkan di Colab di bawah \"Files\" panel kiri\n",
        "id='1dhi1F78ssqR8gE6U-AgB80ZW7V_9snX4'\n",
        "downloaded = drive.CreateFile({'id': id})\n",
        "downloaded.GetContentFile('products.csv')\n",
        "\n",
        "id='1KZBNEaIyMTcsRV817us6uLZgm-Mii8oU'\n",
        "downloaded = drive.CreateFile({'id': id})\n",
        "downloaded.GetContentFile('order_products__train.csv')"
      ],
      "execution_count": 3,
      "outputs": []
    },
    {
      "cell_type": "markdown",
      "source": [
        "#**TUGAS**\n",
        "Jika Anda berhasil menjalankan tahap penyiapan, Anda siap bekerja dengan kumpulan data 3 Juta Pesanan Instacart. Jika Anda ingin membaca lebih lanjut tentangnya, periksa posting blog resmi Instacart tentangnya, deskripsi skema ringkas dari kumpulan data, dan halaman unduhan.\n",
        "\n",
        "Dalam Colab ini, kami hanya akan bekerja dengan kumpulan data pelatihan kecil (~131 ribu pesanan) untuk melakukan Penambangan Pola Sering yang cepat dengan algoritme FP-Growth."
      ],
      "metadata": {
        "id": "Gnw3WSb7Dq7F"
      }
    },
    {
      "cell_type": "code",
      "source": [
        "#mengimport library yang dibutuhkan\n",
        "from pyspark.sql import *\n",
        "from pyspark.sql.functions import *\n",
        "from pyspark import SparkContext\n",
        "import pandas as pd\n",
        "\n",
        "# create the Spark Session\n",
        "spark = SparkSession.builder.getOrCreate()\n",
        "\n",
        "# create the Spark Context\n",
        "sc = spark.sparkContext"
      ],
      "metadata": {
        "id": "JvoeGFTTQM4W"
      },
      "execution_count": 30,
      "outputs": []
    },
    {
      "cell_type": "code",
      "source": [
        "products = spark.read.csv('products.csv', header=True, inferSchema=True)\n",
        "orders = spark.read.csv('order_products__train.csv', header=True, inferSchema=True)"
      ],
      "metadata": {
        "id": "LRFNZLNrD5bS"
      },
      "execution_count": 4,
      "outputs": []
    },
    {
      "cell_type": "code",
      "source": [
        "products.printSchema()"
      ],
      "metadata": {
        "colab": {
          "base_uri": "https://localhost:8080/"
        },
        "id": "lOSKJidoEASj",
        "outputId": "bb97dc31-6409-4f63-e902-6c642e8dd774"
      },
      "execution_count": 5,
      "outputs": [
        {
          "output_type": "stream",
          "name": "stdout",
          "text": [
            "root\n",
            " |-- product_id: integer (nullable = true)\n",
            " |-- product_name: string (nullable = true)\n",
            " |-- aisle_id: string (nullable = true)\n",
            " |-- department_id: string (nullable = true)\n",
            "\n"
          ]
        }
      ]
    },
    {
      "cell_type": "code",
      "source": [
        "orders.printSchema()"
      ],
      "metadata": {
        "colab": {
          "base_uri": "https://localhost:8080/"
        },
        "id": "A7yczptgEEsx",
        "outputId": "501a05a3-3a97-47fe-c568-aa7a0bf64bc3"
      },
      "execution_count": 6,
      "outputs": [
        {
          "output_type": "stream",
          "name": "stdout",
          "text": [
            "root\n",
            " |-- order_id: integer (nullable = true)\n",
            " |-- product_id: integer (nullable = true)\n",
            " |-- add_to_cart_order: integer (nullable = true)\n",
            " |-- reordered: integer (nullable = true)\n",
            "\n"
          ]
        }
      ]
    },
    {
      "cell_type": "markdown",
      "source": [
        "Gunakan API Spark Dataframe untuk menggabungkan 'produk' dan 'pesanan', sehingga Anda dapat melihat nama produk di setiap transaksi (dan bukan hanya id mereka). Kemudian, kelompokkan berdasarkan pesanan berdasarkan 'order_id' untuk mendapatkan satu baris per keranjang (yaitu, set produk yang dibeli bersama oleh satu pelanggan)."
      ],
      "metadata": {
        "id": "DpEkQ5QSELej"
      }
    },
    {
      "cell_type": "code",
      "source": [
        "#memeriksa isi dari Products:\n",
        "products.show(5)"
      ],
      "metadata": {
        "colab": {
          "base_uri": "https://localhost:8080/"
        },
        "id": "uEA6GSvFFKJF",
        "outputId": "2429fff3-fedf-42f9-f9b2-95d094fd2be5"
      },
      "execution_count": 7,
      "outputs": [
        {
          "output_type": "stream",
          "name": "stdout",
          "text": [
            "+----------+--------------------+--------+-------------+\n",
            "|product_id|        product_name|aisle_id|department_id|\n",
            "+----------+--------------------+--------+-------------+\n",
            "|         1|Chocolate Sandwic...|      61|           19|\n",
            "|         2|    All-Seasons Salt|     104|           13|\n",
            "|         3|Robust Golden Uns...|      94|            7|\n",
            "|         4|Smart Ones Classi...|      38|            1|\n",
            "|         5|Green Chile Anyti...|       5|           13|\n",
            "+----------+--------------------+--------+-------------+\n",
            "only showing top 5 rows\n",
            "\n"
          ]
        }
      ]
    },
    {
      "cell_type": "code",
      "source": [
        "#memeriksa isi dari file 'Pesanan'\n",
        "orders.show(5)"
      ],
      "metadata": {
        "colab": {
          "base_uri": "https://localhost:8080/"
        },
        "id": "f0YdVfbJFRTn",
        "outputId": "173360e1-7926-49a9-e93e-f83aad0a4d2a"
      },
      "execution_count": 27,
      "outputs": [
        {
          "output_type": "stream",
          "name": "stdout",
          "text": [
            "+--------+----------+-----------------+---------+\n",
            "|order_id|product_id|add_to_cart_order|reordered|\n",
            "+--------+----------+-----------------+---------+\n",
            "|       1|     49302|                1|        1|\n",
            "|       1|     11109|                2|        1|\n",
            "|       1|     10246|                3|        0|\n",
            "|       1|     49683|                4|        0|\n",
            "|       1|     43633|                5|        1|\n",
            "+--------+----------+-----------------+---------+\n",
            "only showing top 5 rows\n",
            "\n"
          ]
        }
      ]
    },
    {
      "cell_type": "code",
      "source": [
        "#menghitung jumlah orders yang ada\n",
        "print(\"Terdapat {0} order\".format(orders.count()))"
      ],
      "metadata": {
        "colab": {
          "base_uri": "https://localhost:8080/"
        },
        "id": "OAtdhedgP6If",
        "outputId": "39e0c7e6-e57a-4735-b2bf-f7643cb17acb"
      },
      "execution_count": 28,
      "outputs": [
        {
          "output_type": "stream",
          "name": "stdout",
          "text": [
            "Terdapat 1384617 order\n"
          ]
        }
      ]
    },
    {
      "cell_type": "code",
      "source": [
        "#mengelompokkan order ID berdasarkan kolom order_id dan menghitung berapa banyak ID order yang ada:\n",
        "IDorder = orders.groupBy(\"order_id\").count().sort(desc(\"count\"))\n",
        "IDorder.show()"
      ],
      "metadata": {
        "colab": {
          "base_uri": "https://localhost:8080/"
        },
        "id": "lXJ-7z1_O_RP",
        "outputId": "7c5a4fc2-9c4b-437e-e681-a406c63779c8"
      },
      "execution_count": 31,
      "outputs": [
        {
          "output_type": "stream",
          "name": "stdout",
          "text": [
            "+--------+-----+\n",
            "|order_id|count|\n",
            "+--------+-----+\n",
            "| 1395075|   80|\n",
            "| 2813632|   80|\n",
            "|  949182|   77|\n",
            "|  341238|   76|\n",
            "| 2869702|   76|\n",
            "|  312611|   75|\n",
            "| 1355077|   74|\n",
            "| 1465173|   74|\n",
            "|  653280|   72|\n",
            "|  288915|   72|\n",
            "| 1747908|   70|\n",
            "| 2682845|   70|\n",
            "|   45138|   70|\n",
            "| 2395604|   70|\n",
            "|  484152|   68|\n",
            "| 1482636|   68|\n",
            "| 2190647|   67|\n",
            "|  428001|   66|\n",
            "| 1388761|   66|\n",
            "|  736120|   65|\n",
            "+--------+-----+\n",
            "only showing top 20 rows\n",
            "\n"
          ]
        }
      ]
    },
    {
      "cell_type": "code",
      "source": [
        "#menggabungkan kedua dataframe sesuai id\n",
        "#dengan dataframe API\n",
        "ID_joined = products.join(orders, \n",
        "                              products.product_id == orders.product_id)\n",
        "ID_joined.show()"
      ],
      "metadata": {
        "colab": {
          "base_uri": "https://localhost:8080/"
        },
        "id": "ry6bOSMmF0yb",
        "outputId": "b80cdf4c-e9a0-449a-cfa1-5b5cbe7f9d7f"
      },
      "execution_count": 19,
      "outputs": [
        {
          "output_type": "stream",
          "name": "stdout",
          "text": [
            "+----------+--------------------+--------+-------------+--------+----------+-----------------+---------+\n",
            "|product_id|        product_name|aisle_id|department_id|order_id|product_id|add_to_cart_order|reordered|\n",
            "+----------+--------------------+--------+-------------+--------+----------+-----------------+---------+\n",
            "|     49302|    Bulgarian Yogurt|     120|           16|       1|     49302|                1|        1|\n",
            "|     11109|Organic 4% Milk F...|     108|           16|       1|     11109|                2|        1|\n",
            "|     10246|Organic Celery He...|      83|            4|       1|     10246|                3|        0|\n",
            "|     49683|      Cucumber Kirby|      83|            4|       1|     49683|                4|        0|\n",
            "|     43633|Lightly Smoked Sa...|      95|           15|       1|     43633|                5|        1|\n",
            "|     13176|Bag of Organic Ba...|      24|            4|       1|     13176|                6|        0|\n",
            "|     47209|Organic Hass Avocado|      24|            4|       1|     47209|                7|        0|\n",
            "|     22035|Organic Whole Str...|      21|           16|       1|     22035|                8|        1|\n",
            "|     39612|Grated Pecorino R...|       2|           16|      36|     39612|                1|        0|\n",
            "|     19660|        Spring Water|     115|            7|      36|     19660|                2|        1|\n",
            "|     49235| Organic Half & Half|      53|           16|      36|     49235|                3|        0|\n",
            "|     43086|  Super Greens Salad|     123|            4|      36|     43086|                4|        1|\n",
            "|     46620|Cage Free Extra L...|      86|           16|      36|     46620|                5|        1|\n",
            "|     34497|Prosciutto, Ameri...|      96|           20|      36|     34497|                6|        1|\n",
            "|     48679|Organic Garnet Sw...|      83|            4|      36|     48679|                7|        1|\n",
            "|     46979|           Asparagus|      83|            4|      36|     46979|                8|        1|\n",
            "|     11913|  Shelled Pistachios|     117|           19|      38|     11913|                1|        0|\n",
            "|     18159|Organic Biologiqu...|     123|            4|      38|     18159|                2|        0|\n",
            "|      4461|Organic Raw Unfil...|      19|           13|      38|      4461|                3|        0|\n",
            "|     21616|Organic Baby Arugula|     123|            4|      38|     21616|                4|        1|\n",
            "+----------+--------------------+--------+-------------+--------+----------+-----------------+---------+\n",
            "only showing top 20 rows\n",
            "\n"
          ]
        }
      ]
    },
    {
      "cell_type": "code",
      "source": [
        "#menampilkan barang yang dibeli oleh pelanggan dengan order_id 1\n",
        "ID_1 = ID_joined.where(\"order_id = '1'\")\n",
        "ID_1.show()"
      ],
      "metadata": {
        "colab": {
          "base_uri": "https://localhost:8080/"
        },
        "id": "gt0yeJQLM0ST",
        "outputId": "78867648-63fe-49a9-c50b-8f10d028d6b2"
      },
      "execution_count": 21,
      "outputs": [
        {
          "output_type": "stream",
          "name": "stdout",
          "text": [
            "+----------+--------------------+--------+-------------+--------+----------+-----------------+---------+\n",
            "|product_id|        product_name|aisle_id|department_id|order_id|product_id|add_to_cart_order|reordered|\n",
            "+----------+--------------------+--------+-------------+--------+----------+-----------------+---------+\n",
            "|     49302|    Bulgarian Yogurt|     120|           16|       1|     49302|                1|        1|\n",
            "|     11109|Organic 4% Milk F...|     108|           16|       1|     11109|                2|        1|\n",
            "|     10246|Organic Celery He...|      83|            4|       1|     10246|                3|        0|\n",
            "|     49683|      Cucumber Kirby|      83|            4|       1|     49683|                4|        0|\n",
            "|     43633|Lightly Smoked Sa...|      95|           15|       1|     43633|                5|        1|\n",
            "|     13176|Bag of Organic Ba...|      24|            4|       1|     13176|                6|        0|\n",
            "|     47209|Organic Hass Avocado|      24|            4|       1|     47209|                7|        0|\n",
            "|     22035|Organic Whole Str...|      21|           16|       1|     22035|                8|        1|\n",
            "+----------+--------------------+--------+-------------+--------+----------+-----------------+---------+\n",
            "\n"
          ]
        }
      ]
    },
    {
      "cell_type": "code",
      "source": [
        "#menampilkan barang yang dibeli oleh pelanggan dengan order_id 1395075 \n",
        "ID_1395075 = ID_joined.where(\"order_id = '1395075'\")\n",
        "ID_1395075.show()"
      ],
      "metadata": {
        "colab": {
          "base_uri": "https://localhost:8080/"
        },
        "id": "wqY2856bIVPy",
        "outputId": "25812207-96d4-4d0d-c085-f661e7a1a168"
      },
      "execution_count": 34,
      "outputs": [
        {
          "output_type": "stream",
          "name": "stdout",
          "text": [
            "+----------+--------------------+--------+-------------+--------+----------+-----------------+---------+\n",
            "|product_id|        product_name|aisle_id|department_id|order_id|product_id|add_to_cart_order|reordered|\n",
            "+----------+--------------------+--------+-------------+--------+----------+-----------------+---------+\n",
            "|      2495|Original Liquid L...|      75|           17| 1395075|      2495|                1|        1|\n",
            "|     15460|To Go Stain Remov...|      75|           17| 1395075|     15460|                2|        0|\n",
            "|      8366|Lemon Clean Furni...|     114|           17| 1395075|      8366|                3|        1|\n",
            "|      5586|Original Glass Cl...|     114|           17| 1395075|      5586|                4|        1|\n",
            "|      1142|Crystal Rain Trig...|     114|           17| 1395075|      1142|                5|        1|\n",
            "|     26749|Power & Free Cool...|     114|           17| 1395075|     26749|                6|        1|\n",
            "|     42406|Multi-Surface Cle...|     114|           17| 1395075|     42406|                7|        1|\n",
            "|     16102|Shower Tub & Tile...|     114|           17| 1395075|     16102|                8|        0|\n",
            "|      9139|Fabric Softener D...|      75|           17| 1395075|      9139|                9|        1|\n",
            "|      2986|Hemorrhoidal Oint...|      70|           11| 1395075|      2986|               10|        0|\n",
            "|     16494|Double Zipper Gal...|      85|           17| 1395075|     16494|               11|        0|\n",
            "|     47865|  Quart Storage Bags|      85|           17| 1395075|     47865|               12|        0|\n",
            "|     13974|Reduced Fat Cream...|      88|           13| 1395075|     13974|               13|        1|\n",
            "|     38113|Whole Grain Spagh...|     131|            9| 1395075|     38113|               14|        0|\n",
            "|      6779|Traditional Favor...|       9|            9| 1395075|      6779|               15|        0|\n",
            "|      1194|Natural Artisan W...|     115|            7| 1395075|      1194|               16|        1|\n",
            "|     33198|Sparkling Natural...|     115|            7| 1395075|     33198|               17|        1|\n",
            "|     15424|      Purified Water|     115|            7| 1395075|     15424|               18|        1|\n",
            "|     47479|Squeeze Real Mayo...|      72|           13| 1395075|     47479|               19|        0|\n",
            "|      4317|Solid White Albac...|      95|           15| 1395075|      4317|               20|        1|\n",
            "+----------+--------------------+--------+-------------+--------+----------+-----------------+---------+\n",
            "only showing top 20 rows\n",
            "\n"
          ]
        }
      ]
    }
  ]
}