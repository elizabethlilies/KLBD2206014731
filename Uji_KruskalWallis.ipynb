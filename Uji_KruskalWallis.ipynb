{
  "nbformat": 4,
  "nbformat_minor": 0,
  "metadata": {
    "colab": {
      "provenance": [],
      "mount_file_id": "1D39hhua58ASTQ-jepeMzagDjFOxQAq_w",
      "authorship_tag": "ABX9TyP0BowLIyYb8j4BJ75ArR88",
      "include_colab_link": true
    },
    "kernelspec": {
      "name": "python3",
      "display_name": "Python 3"
    },
    "language_info": {
      "name": "python"
    },
    "accelerator": "GPU"
  },
  "cells": [
    {
      "cell_type": "markdown",
      "metadata": {
        "id": "view-in-github",
        "colab_type": "text"
      },
      "source": [
        "<a href=\"https://colab.research.google.com/github/elizabethlilies/KLBD2206014731/blob/main/Uji_KruskalWallis.ipynb\" target=\"_parent\"><img src=\"https://colab.research.google.com/assets/colab-badge.svg\" alt=\"Open In Colab\"/></a>"
      ]
    },
    {
      "cell_type": "code",
      "source": [
        "#mengautentikasi klien Google Drive untuk mengunduh file yang akan diproses\n",
        "from pydrive.auth import GoogleAuth\n",
        "from pydrive.drive import GoogleDrive\n",
        "from google.colab import auth\n",
        "from oauth2client.client import GoogleCredentials\n",
        "\n",
        "# Authenticate and create the PyDrive client\n",
        "auth.authenticate_user()\n",
        "gauth = GoogleAuth()\n",
        "gauth.credentials = GoogleCredentials.get_application_default()\n",
        "drive = GoogleDrive(gauth)"
      ],
      "metadata": {
        "id": "83f21I09xXUr"
      },
      "execution_count": 1,
      "outputs": []
    },
    {
      "cell_type": "code",
      "source": [
        "#yang akan dibutuhkan agar program berjalan\n",
        "from scipy.stats import kruskal\n",
        "from scipy import stats\n",
        "import pandas as pd"
      ],
      "metadata": {
        "id": "5Uex1IKGTb49"
      },
      "execution_count": 2,
      "outputs": []
    },
    {
      "cell_type": "markdown",
      "source": [
        "# **Uji KRUSKAL-WALLIS (1)**\n",
        "Perbedaan **Nilai Matematika** antar Prodi\n",
        "\n",
        "(tutorial: https://www.youtube.com/watch?v=Af1YuaFylqM)"
      ],
      "metadata": {
        "id": "5kzttZceKu47"
      }
    },
    {
      "cell_type": "code",
      "source": [
        "myAktuaria = pd.read_excel('/content/drive/MyDrive/anova.xlsx', sheet_name='Aktuaria')\n",
        "aktuaria = myAktuaria['Nilai'].values\n",
        "\n",
        "myFisika = pd.read_excel('/content/drive/MyDrive/anova.xlsx', sheet_name='Fisika')\n",
        "fisika= myFisika['Nilai'].values\n",
        "\n",
        "myGeofisika = pd.read_excel('/content/drive/MyDrive/anova.xlsx', sheet_name='Geofisika')\n",
        "geofisika= myGeofisika['Nilai'].values\n",
        "\n",
        "myGeografi = pd.read_excel('/content/drive/MyDrive/anova.xlsx', sheet_name='Geografi')\n",
        "geografi= myGeografi['Nilai'].values\n",
        "\n",
        "myGeologi = pd.read_excel('/content/drive/MyDrive/anova.xlsx', sheet_name='Geologi')\n",
        "geologi= myGeologi['Nilai'].values\n",
        "\n",
        "myKimia = pd.read_excel('/content/drive/MyDrive/anova.xlsx', sheet_name='Kimia')\n",
        "kimia= myKimia['Nilai'].values\n",
        "\n",
        "myMatematika = pd.read_excel('/content/drive/MyDrive/anova.xlsx', sheet_name='Matematika')\n",
        "matematika= myMatematika['Nilai'].values\n",
        "\n",
        "myStatistika = pd.read_excel('/content/drive/MyDrive/anova.xlsx', sheet_name='Statistika')\n",
        "statistika= myStatistika['Nilai'].values\n",
        "\n",
        "stats.kruskal(aktuaria, fisika, geofisika, geografi, geologi, kimia, matematika, statistika)"
      ],
      "metadata": {
        "colab": {
          "base_uri": "https://localhost:8080/"
        },
        "id": "PQfgVHGzK1tF",
        "outputId": "63fd77b5-f2c9-4033-cbea-3c502915fb73"
      },
      "execution_count": 3,
      "outputs": [
        {
          "output_type": "execute_result",
          "data": {
            "text/plain": [
              "KruskalResult(statistic=94.91821383179362, pvalue=1.2049888814678439e-17)"
            ]
          },
          "metadata": {},
          "execution_count": 3
        }
      ]
    },
    {
      "cell_type": "markdown",
      "source": [
        "**Kesimpulan:**\n",
        "\n",
        "karena p<0.05, maka terdapat perbedaan signifikan antar prodi terhadap **Nilai Matematika** mahasiswa"
      ],
      "metadata": {
        "id": "tIkHo7eK-otG"
      }
    },
    {
      "cell_type": "markdown",
      "source": [
        "# **Uji KRUSKAL-WALLIS (2)**\n",
        "Perbedaan **Tinggi Badan** antar Prodi"
      ],
      "metadata": {
        "id": "1ke2Kqtc-li2"
      }
    },
    {
      "cell_type": "code",
      "source": [
        "myAktuaria = pd.read_excel('/content/drive/MyDrive/anova.xlsx', sheet_name='Aktuaria')\n",
        "aktuaria = myAktuaria['TB'].values\n",
        "\n",
        "myFisika = pd.read_excel('/content/drive/MyDrive/anova.xlsx', sheet_name='Fisika')\n",
        "fisika= myFisika['TB'].values\n",
        "\n",
        "myGeofisika = pd.read_excel('/content/drive/MyDrive/anova.xlsx', sheet_name='Geofisika')\n",
        "geofisika= myGeofisika['TB'].values\n",
        "\n",
        "myGeografi = pd.read_excel('/content/drive/MyDrive/anova.xlsx', sheet_name='Geografi')\n",
        "geografi= myGeografi['TB'].values\n",
        "\n",
        "myGeologi = pd.read_excel('/content/drive/MyDrive/anova.xlsx', sheet_name='Geologi')\n",
        "geologi= myGeologi['TB'].values\n",
        "\n",
        "myKimia = pd.read_excel('/content/drive/MyDrive/anova.xlsx', sheet_name='Kimia')\n",
        "kimia= myKimia['TB'].values\n",
        "\n",
        "myMatematika = pd.read_excel('/content/drive/MyDrive/anova.xlsx', sheet_name='Matematika')\n",
        "matematika= myMatematika['TB'].values\n",
        "\n",
        "myStatistika = pd.read_excel('/content/drive/MyDrive/anova.xlsx', sheet_name='Statistika')\n",
        "statistika= myStatistika['TB'].values\n",
        "\n",
        "stats.kruskal(aktuaria, fisika, geofisika, geografi, geologi, kimia, matematika, statistika)"
      ],
      "metadata": {
        "colab": {
          "base_uri": "https://localhost:8080/"
        },
        "id": "WeGzgZiC9RKq",
        "outputId": "30120d2d-8b31-4c56-abd1-68515bd704c7"
      },
      "execution_count": 4,
      "outputs": [
        {
          "output_type": "execute_result",
          "data": {
            "text/plain": [
              "KruskalResult(statistic=46.40989554195995, pvalue=7.274610030851882e-08)"
            ]
          },
          "metadata": {},
          "execution_count": 4
        }
      ]
    },
    {
      "cell_type": "markdown",
      "source": [
        "**Kesimpulan:**\n",
        "\n",
        "karena p<0.05, maka terdapat perbedaan signifikan antar prodi terhadap **Tinggi Badan** mahasiswa."
      ],
      "metadata": {
        "id": "FBmFdQ5M2cso"
      }
    },
    {
      "cell_type": "markdown",
      "source": [
        "# **Uji KRUSKAL-WALLIS (3)**\n",
        "Perbedaan **Berat Badan** antar Prodi"
      ],
      "metadata": {
        "id": "23XRqmiG2x8g"
      }
    },
    {
      "cell_type": "code",
      "source": [
        "myAktuaria = pd.read_excel('/content/drive/MyDrive/anova.xlsx', sheet_name='Aktuaria')\n",
        "aktuaria = myAktuaria['BB'].values\n",
        "\n",
        "myFisika = pd.read_excel('/content/drive/MyDrive/anova.xlsx', sheet_name='Fisika')\n",
        "fisika= myFisika['BB'].values\n",
        "\n",
        "myGeofisika = pd.read_excel('/content/drive/MyDrive/anova.xlsx', sheet_name='Geofisika')\n",
        "geofisika= myGeofisika['BB'].values\n",
        "\n",
        "myGeografi = pd.read_excel('/content/drive/MyDrive/anova.xlsx', sheet_name='Geografi')\n",
        "geografi= myGeografi['BB'].values\n",
        "\n",
        "myGeologi = pd.read_excel('/content/drive/MyDrive/anova.xlsx', sheet_name='Geologi')\n",
        "geologi= myGeologi['BB'].values\n",
        "\n",
        "myKimia = pd.read_excel('/content/drive/MyDrive/anova.xlsx', sheet_name='Kimia')\n",
        "kimia= myKimia['BB'].values\n",
        "\n",
        "myMatematika = pd.read_excel('/content/drive/MyDrive/anova.xlsx', sheet_name='Matematika')\n",
        "matematika= myMatematika['BB'].values\n",
        "\n",
        "myStatistika = pd.read_excel('/content/drive/MyDrive/anova.xlsx', sheet_name='Statistika')\n",
        "statistika= myStatistika['BB'].values\n",
        "\n",
        "stats.kruskal(aktuaria, fisika, geofisika, geografi, geologi, kimia, matematika, statistika)"
      ],
      "metadata": {
        "colab": {
          "base_uri": "https://localhost:8080/"
        },
        "id": "as1hXZkW9eSH",
        "outputId": "f24c0820-3989-4fe9-ff6e-a6cd392a20b5"
      },
      "execution_count": 5,
      "outputs": [
        {
          "output_type": "execute_result",
          "data": {
            "text/plain": [
              "KruskalResult(statistic=17.99416587501706, pvalue=0.011996352498524229)"
            ]
          },
          "metadata": {},
          "execution_count": 5
        }
      ]
    },
    {
      "cell_type": "markdown",
      "source": [
        "**Kesimpulan:**\n",
        "\n",
        "karena p<0.05, maka terdapat perbedaan signifikan antar prodi terhadap **Berat Badan** mahasiswa."
      ],
      "metadata": {
        "id": "d1Z_Ubni21YP"
      }
    },
    {
      "cell_type": "markdown",
      "source": [
        "# **Uji KRUSKAL-WALLIS (4)**\n",
        "Perbedaan **Hasil Games 1** antar Prodi"
      ],
      "metadata": {
        "id": "535Q8mum_Exq"
      }
    },
    {
      "cell_type": "code",
      "source": [
        "myAktuaria = pd.read_excel('/content/drive/MyDrive/anova.xlsx', sheet_name='Aktuaria')\n",
        "aktuaria = myAktuaria['Games1'].values\n",
        "\n",
        "myFisika = pd.read_excel('/content/drive/MyDrive/anova.xlsx', sheet_name='Fisika')\n",
        "fisika= myFisika['Games1'].values\n",
        "\n",
        "myGeofisika = pd.read_excel('/content/drive/MyDrive/anova.xlsx', sheet_name='Geofisika')\n",
        "geofisika= myGeofisika['Games1'].values\n",
        "\n",
        "myGeografi = pd.read_excel('/content/drive/MyDrive/anova.xlsx', sheet_name='Geografi')\n",
        "geografi= myGeografi['Games1'].values\n",
        "\n",
        "myGeologi = pd.read_excel('/content/drive/MyDrive/anova.xlsx', sheet_name='Geologi')\n",
        "geologi= myGeologi['Games1'].values\n",
        "\n",
        "myKimia = pd.read_excel('/content/drive/MyDrive/anova.xlsx', sheet_name='Kimia')\n",
        "kimia= myKimia['Games1'].values\n",
        "\n",
        "myMatematika = pd.read_excel('/content/drive/MyDrive/anova.xlsx', sheet_name='Matematika')\n",
        "matematika= myMatematika['Games1'].values\n",
        "\n",
        "myStatistika = pd.read_excel('/content/drive/MyDrive/anova.xlsx', sheet_name='Statistika')\n",
        "statistika= myStatistika['Games1'].values\n",
        "\n",
        "stats.kruskal(aktuaria, fisika, geofisika, geografi, geologi, kimia, matematika, statistika)"
      ],
      "metadata": {
        "colab": {
          "base_uri": "https://localhost:8080/"
        },
        "id": "vbvx8jVi9p0A",
        "outputId": "b6043c83-06e1-4878-ae75-91b4f1171a75"
      },
      "execution_count": null,
      "outputs": [
        {
          "output_type": "execute_result",
          "data": {
            "text/plain": [
              "KruskalResult(statistic=41.363184002520384, pvalue=6.89453660162494e-07)"
            ]
          },
          "metadata": {},
          "execution_count": 6
        }
      ]
    },
    {
      "cell_type": "markdown",
      "source": [
        "**Kesimpulan:**\n",
        "\n",
        "karena p<0.05, maka terdapat perbedaan signifikan antar prodi terhadap **Hasil Games 1** mahasiswa."
      ],
      "metadata": {
        "id": "uA-vcG5v27fj"
      }
    },
    {
      "cell_type": "markdown",
      "source": [
        "# **Uji KRUSKAL-WALLIS (5)**\n",
        "Perbedaan **Hasil Games 2** antar Prodi"
      ],
      "metadata": {
        "id": "w4BIE3aS_YYt"
      }
    },
    {
      "cell_type": "code",
      "source": [
        "myAktuaria = pd.read_excel('/content/drive/MyDrive/anova.xlsx', sheet_name='Aktuaria')\n",
        "aktuaria = myAktuaria['Games2'].values\n",
        "\n",
        "myFisika = pd.read_excel('/content/drive/MyDrive/anova.xlsx', sheet_name='Fisika')\n",
        "fisika= myFisika['Games2'].values\n",
        "\n",
        "myGeofisika = pd.read_excel('/content/drive/MyDrive/anova.xlsx', sheet_name='Geofisika')\n",
        "geofisika= myGeofisika['Games2'].values\n",
        "\n",
        "myGeografi = pd.read_excel('/content/drive/MyDrive/anova.xlsx', sheet_name='Geografi')\n",
        "geografi= myGeografi['Games2'].values\n",
        "\n",
        "myGeologi = pd.read_excel('/content/drive/MyDrive/anova.xlsx', sheet_name='Geologi')\n",
        "geologi= myGeologi['Games2'].values\n",
        "\n",
        "myKimia = pd.read_excel('/content/drive/MyDrive/anova.xlsx', sheet_name='Kimia')\n",
        "kimia= myKimia['Games2'].values\n",
        "\n",
        "myMatematika = pd.read_excel('/content/drive/MyDrive/anova.xlsx', sheet_name='Matematika')\n",
        "matematika= myMatematika['Games2'].values\n",
        "\n",
        "myStatistika = pd.read_excel('/content/drive/MyDrive/anova.xlsx', sheet_name='Statistika')\n",
        "statistika= myStatistika['Games2'].values\n",
        "\n",
        "stats.kruskal(aktuaria, fisika, geofisika, geografi, geologi, kimia, matematika, statistika)"
      ],
      "metadata": {
        "colab": {
          "base_uri": "https://localhost:8080/"
        },
        "id": "te_IsDyD_eW1",
        "outputId": "d8ff63d5-d230-4518-9897-594904401d33"
      },
      "execution_count": null,
      "outputs": [
        {
          "output_type": "execute_result",
          "data": {
            "text/plain": [
              "KruskalResult(statistic=44.87938129064516, pvalue=1.443343758632595e-07)"
            ]
          },
          "metadata": {},
          "execution_count": 7
        }
      ]
    },
    {
      "cell_type": "markdown",
      "source": [
        "**Kesimpulan:**\n",
        "\n",
        "karena p<0.05, maka terdapat perbedaan signifikan antar prodi terhadap **Hasil Games 2** mahasiswa."
      ],
      "metadata": {
        "id": "CuBxDBo53Iv3"
      }
    },
    {
      "cell_type": "markdown",
      "source": [
        "# **Uji KRUSKAL-WALLIS (6)**\n",
        "Perbedaan **Waktu Penggunaan Medsos** antar Prodi"
      ],
      "metadata": {
        "id": "ngG8RZPh_p5F"
      }
    },
    {
      "cell_type": "code",
      "source": [
        "myAktuaria = pd.read_excel('/content/drive/MyDrive/anova.xlsx', sheet_name='Aktuaria')\n",
        "aktuaria = myAktuaria['wMedsos'].values\n",
        "\n",
        "myFisika = pd.read_excel('/content/drive/MyDrive/anova.xlsx', sheet_name='Fisika')\n",
        "fisika= myFisika['wMedsos'].values\n",
        "\n",
        "myGeofisika = pd.read_excel('/content/drive/MyDrive/anova.xlsx', sheet_name='Geofisika')\n",
        "geofisika= myGeofisika['wMedsos'].values\n",
        "\n",
        "myGeografi = pd.read_excel('/content/drive/MyDrive/anova.xlsx', sheet_name='Geografi')\n",
        "geografi= myGeografi['wMedsos'].values\n",
        "\n",
        "myGeologi = pd.read_excel('/content/drive/MyDrive/anova.xlsx', sheet_name='Geologi')\n",
        "geologi= myGeologi['wMedsos'].values\n",
        "\n",
        "myKimia = pd.read_excel('/content/drive/MyDrive/anova.xlsx', sheet_name='Kimia')\n",
        "kimia= myKimia['wMedsos'].values\n",
        "\n",
        "myMatematika = pd.read_excel('/content/drive/MyDrive/anova.xlsx', sheet_name='Matematika')\n",
        "matematika= myMatematika['wMedsos'].values\n",
        "\n",
        "myStatistika = pd.read_excel('/content/drive/MyDrive/anova.xlsx', sheet_name='Statistika')\n",
        "statistika= myStatistika['wMedsos'].values\n",
        "\n",
        "stats.kruskal(aktuaria, fisika, geofisika, geografi, geologi, kimia, matematika, statistika)"
      ],
      "metadata": {
        "colab": {
          "base_uri": "https://localhost:8080/"
        },
        "id": "18m7zWYk9zQm",
        "outputId": "b04cc0ff-867c-4eb5-8be2-8c925441c646"
      },
      "execution_count": null,
      "outputs": [
        {
          "output_type": "execute_result",
          "data": {
            "text/plain": [
              "KruskalResult(statistic=16.78751831389221, pvalue=0.018818894393055695)"
            ]
          },
          "metadata": {},
          "execution_count": 8
        }
      ]
    },
    {
      "cell_type": "markdown",
      "source": [
        "**Kesimpulan:**\n",
        "\n",
        "karena p<0.05, maka terdapat perbedaan signifikan antar prodi terhadap **waktu penggunaan medsos**."
      ],
      "metadata": {
        "id": "S5PlWD9F3NGd"
      }
    },
    {
      "cell_type": "code",
      "source": [
        "myAktuaria = pd.read_excel('/content/drive/MyDrive/anova.xlsx', sheet_name='Aktuaria')\n",
        "aktuaria = myAktuaria['Usia'].values\n",
        "\n",
        "myFisika = pd.read_excel('/content/drive/MyDrive/anova.xlsx', sheet_name='Fisika')\n",
        "fisika= myFisika['Usia'].values\n",
        "\n",
        "myGeofisika = pd.read_excel('/content/drive/MyDrive/anova.xlsx', sheet_name='Geofisika')\n",
        "geofisika= myGeofisika['Usia'].values\n",
        "\n",
        "myGeografi = pd.read_excel('/content/drive/MyDrive/anova.xlsx', sheet_name='Geografi')\n",
        "geografi= myGeografi['Usia'].values\n",
        "\n",
        "myGeologi = pd.read_excel('/content/drive/MyDrive/anova.xlsx', sheet_name='Geologi')\n",
        "geologi= myGeologi['Usia'].values\n",
        "\n",
        "myKimia = pd.read_excel('/content/drive/MyDrive/anova.xlsx', sheet_name='Kimia')\n",
        "kimia= myKimia['Usia'].values\n",
        "\n",
        "myMatematika = pd.read_excel('/content/drive/MyDrive/anova.xlsx', sheet_name='Matematika')\n",
        "matematika= myMatematika['Usia'].values\n",
        "\n",
        "myStatistika = pd.read_excel('/content/drive/MyDrive/anova.xlsx', sheet_name='Statistika')\n",
        "statistika= myStatistika['Usia'].values\n",
        "\n",
        "stats.kruskal(aktuaria, fisika, geofisika, geografi, geologi, kimia, matematika, statistika)"
      ],
      "metadata": {
        "id": "yGZTgucWJe7C",
        "colab": {
          "base_uri": "https://localhost:8080/"
        },
        "outputId": "5e5f93b3-7269-4a44-f01f-9d4f02fdfef4"
      },
      "execution_count": null,
      "outputs": [
        {
          "output_type": "execute_result",
          "data": {
            "text/plain": [
              "KruskalResult(statistic=11.861158006736165, pvalue=0.10521820886838788)"
            ]
          },
          "metadata": {},
          "execution_count": 5
        }
      ]
    },
    {
      "cell_type": "markdown",
      "source": [
        "**Kesimpulan:**\n",
        "\n",
        "karena p>0.05, maka tidak terdapat perbedaan signifikan antar prodi terhadap **waktu penggunaan medsos**."
      ],
      "metadata": {
        "id": "F1-CpsWubZ10"
      }
    }
  ]
}