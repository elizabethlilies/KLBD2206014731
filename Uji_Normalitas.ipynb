{
  "nbformat": 4,
  "nbformat_minor": 0,
  "metadata": {
    "colab": {
      "provenance": [],
      "mount_file_id": "1m54x5xjwxS3pe_R7GMa5EuZBSZsfVJD8",
      "authorship_tag": "ABX9TyPtldlt/+Iae2ZPIa5x1IP0",
      "include_colab_link": true
    },
    "kernelspec": {
      "name": "python3",
      "display_name": "Python 3"
    },
    "language_info": {
      "name": "python"
    },
    "accelerator": "GPU",
    "gpuClass": "standard"
  },
  "cells": [
    {
      "cell_type": "markdown",
      "metadata": {
        "id": "view-in-github",
        "colab_type": "text"
      },
      "source": [
        "<a href=\"https://colab.research.google.com/github/elizabethlilies/KLBD2206014731/blob/main/Uji_Normalitas.ipynb\" target=\"_parent\"><img src=\"https://colab.research.google.com/assets/colab-badge.svg\" alt=\"Open In Colab\"/></a>"
      ]
    },
    {
      "cell_type": "code",
      "source": [
        "import pandas as pd\n",
        "from scipy import stats\n",
        "from scipy.stats import jarque_bera"
      ],
      "metadata": {
        "id": "JLsj-WY_pXxX"
      },
      "execution_count": null,
      "outputs": []
    },
    {
      "cell_type": "code",
      "source": [
        "#mengautentikasi klien Google Drive untuk mengunduh file yang akan diproses\n",
        "from pydrive.auth import GoogleAuth\n",
        "from pydrive.drive import GoogleDrive\n",
        "from google.colab import auth\n",
        "from oauth2client.client import GoogleCredentials\n",
        "\n",
        "# Authenticate and create the PyDrive client\n",
        "auth.authenticate_user()\n",
        "gauth = GoogleAuth()\n",
        "gauth.credentials = GoogleCredentials.get_application_default()\n",
        "drive = GoogleDrive(gauth)"
      ],
      "metadata": {
        "id": "xH-0uiowct4t"
      },
      "execution_count": null,
      "outputs": []
    },
    {
      "cell_type": "markdown",
      "source": [
        "# **UJI NORMALITAS**\n",
        "Shapiro Wilk"
      ],
      "metadata": {
        "id": "O_U-iFrL6P2j"
      }
    },
    {
      "cell_type": "code",
      "source": [
        "#Uji Normalitas Nilai Matematika\n",
        "dnilai = pd.read_excel('/content/drive/MyDrive/anova.xlsx', sheet_name='SESUDAH')\n",
        "nilai = dnilai['Nilai'].values\n",
        "stats.shapiro(nilai)"
      ],
      "metadata": {
        "id": "HH3QDxaHuwGi",
        "colab": {
          "base_uri": "https://localhost:8080/"
        },
        "outputId": "712c9b18-6882-4b4e-f26d-7d830cd0acbd"
      },
      "execution_count": null,
      "outputs": [
        {
          "output_type": "execute_result",
          "data": {
            "text/plain": [
              "ShapiroResult(statistic=0.9825246334075928, pvalue=4.816675414076599e-07)"
            ]
          },
          "metadata": {},
          "execution_count": 63
        }
      ]
    },
    {
      "cell_type": "code",
      "source": [
        "#Uji Normalitas Tinggi Badan\n",
        "dtb = pd.read_excel('/content/drive/MyDrive/anova.xlsx', sheet_name='SESUDAH')\n",
        "tb = dtb['TB'].values\n",
        "stats.shapiro(tb)"
      ],
      "metadata": {
        "colab": {
          "base_uri": "https://localhost:8080/"
        },
        "id": "9_h7jbNjwEq1",
        "outputId": "0c92ca46-65c4-49d6-9ea5-f7d099b3e471"
      },
      "execution_count": null,
      "outputs": [
        {
          "output_type": "execute_result",
          "data": {
            "text/plain": [
              "ShapiroResult(statistic=0.9915893077850342, pvalue=0.0009039591532200575)"
            ]
          },
          "metadata": {},
          "execution_count": 64
        }
      ]
    },
    {
      "cell_type": "code",
      "source": [
        "#Uji Normalitas Berat Badan\n",
        "dbb = pd.read_excel('/content/drive/MyDrive/anova.xlsx', sheet_name='SESUDAH')\n",
        "bb = dbb['BB'].values\n",
        "stats.shapiro(bb)"
      ],
      "metadata": {
        "id": "3ugjUgmnsmlz",
        "colab": {
          "base_uri": "https://localhost:8080/"
        },
        "outputId": "02154912-dc79-4e7d-f30b-d89f25ef427e"
      },
      "execution_count": null,
      "outputs": [
        {
          "output_type": "execute_result",
          "data": {
            "text/plain": [
              "ShapiroResult(statistic=0.9489766955375671, pvalue=3.0615595914560215e-14)"
            ]
          },
          "metadata": {},
          "execution_count": 65
        }
      ]
    },
    {
      "cell_type": "code",
      "source": [
        "#Uji Normalitas Games1\n",
        "dgames1 = pd.read_excel('/content/drive/MyDrive/anova.xlsx', sheet_name='SESUDAH')\n",
        "games1 = dgames1['Games1'].values\n",
        "stats.shapiro(games1)"
      ],
      "metadata": {
        "id": "eH3TmLlM0kqr",
        "colab": {
          "base_uri": "https://localhost:8080/"
        },
        "outputId": "88f0a3ae-1215-4f56-e0fe-dc25f1354711"
      },
      "execution_count": null,
      "outputs": [
        {
          "output_type": "execute_result",
          "data": {
            "text/plain": [
              "ShapiroResult(statistic=0.9289604425430298, pvalue=4.7656667650927903e-17)"
            ]
          },
          "metadata": {},
          "execution_count": 66
        }
      ]
    },
    {
      "cell_type": "code",
      "source": [
        "#Uji Normalitas Games2\n",
        "dgames2 = pd.read_excel('/content/drive/MyDrive/anova.xlsx', sheet_name='SESUDAH')\n",
        "games2 = dgames2['Games2'].values\n",
        "stats.shapiro(games2)"
      ],
      "metadata": {
        "colab": {
          "base_uri": "https://localhost:8080/"
        },
        "id": "BmlgCIv98TOU",
        "outputId": "d46851ba-f805-4827-88ce-6b82c756e999"
      },
      "execution_count": null,
      "outputs": [
        {
          "output_type": "execute_result",
          "data": {
            "text/plain": [
              "ShapiroResult(statistic=0.9231017827987671, pvalue=9.217603610742796e-18)"
            ]
          },
          "metadata": {},
          "execution_count": 67
        }
      ]
    },
    {
      "cell_type": "code",
      "source": [
        "#Uji Normalitas Games1\n",
        "dwMedsos = pd.read_excel('/content/drive/MyDrive/anova.xlsx', sheet_name='SESUDAH')\n",
        "wMedsos = dwMedsos['waktu_Medsos'].values\n",
        "stats.shapiro(wMedsos)"
      ],
      "metadata": {
        "colab": {
          "base_uri": "https://localhost:8080/"
        },
        "id": "RY3qiqJo_Jiv",
        "outputId": "aa3776b5-275c-4ac9-a260-9ed4a90c793c"
      },
      "execution_count": null,
      "outputs": [
        {
          "output_type": "execute_result",
          "data": {
            "text/plain": [
              "ShapiroResult(statistic=0.941138744354248, pvalue=2.030457194455884e-15)"
            ]
          },
          "metadata": {},
          "execution_count": 68
        }
      ]
    },
    {
      "cell_type": "markdown",
      "source": [
        "# **UJI NORMALITAS**\n",
        "Uji Jarque Bera\n",
        "\n",
        "Sumber: https://medium.com/@kurniasp/hypothesis-tests-in-python-e6cf069b1de2\n",
        "\n",
        "https://towardsdatascience.com/jarque-bera-test-with-python-98677c073de3"
      ],
      "metadata": {
        "id": "ac0t-JZ3cBoc"
      }
    },
    {
      "cell_type": "code",
      "source": [
        "#Uji Normalitas Nilai Matematika\n",
        "nilai = pd.read_excel('/content/drive/MyDrive/anova.xlsx', sheet_name='urut')\n",
        "jarque_bera(nilai[\"Nilai\"])"
      ],
      "metadata": {
        "colab": {
          "base_uri": "https://localhost:8080/"
        },
        "id": "qaEXc4LscIx8",
        "outputId": "329d111c-3def-441f-f2bb-6a686b665fd8"
      },
      "execution_count": null,
      "outputs": [
        {
          "output_type": "execute_result",
          "data": {
            "text/plain": [
              "Jarque_beraResult(statistic=13.541879839776623, pvalue=0.001146616416679569)"
            ]
          },
          "metadata": {},
          "execution_count": 13
        }
      ]
    },
    {
      "cell_type": "code",
      "source": [
        "#Uji Normalitas Tinggi Badan\n",
        "tinggi = pd.read_excel('/content/drive/MyDrive/anova.xlsx', sheet_name='urut')\n",
        "jarque_bera(tinggi[\"TB\"])"
      ],
      "metadata": {
        "colab": {
          "base_uri": "https://localhost:8080/"
        },
        "id": "uGDKOPePcRlo",
        "outputId": "9d26ff30-bc7a-43d4-abce-90e4bc843706"
      },
      "execution_count": null,
      "outputs": [
        {
          "output_type": "execute_result",
          "data": {
            "text/plain": [
              "Jarque_beraResult(statistic=7.675730350825795, pvalue=0.021539535426865042)"
            ]
          },
          "metadata": {},
          "execution_count": 10
        }
      ]
    },
    {
      "cell_type": "code",
      "source": [
        "#Uji Normalitas Berat Badan\n",
        "berat = pd.read_excel('/content/drive/MyDrive/anova.xlsx', sheet_name='urut')\n",
        "jarque_bera(berat[\"BB\"])"
      ],
      "metadata": {
        "colab": {
          "base_uri": "https://localhost:8080/"
        },
        "id": "pf_xBDTWewv-",
        "outputId": "6f834d76-aa4c-41c0-9ef1-fd289a5da7df"
      },
      "execution_count": null,
      "outputs": [
        {
          "output_type": "execute_result",
          "data": {
            "text/plain": [
              "Jarque_beraResult(statistic=54.59565057329373, pvalue=1.3954393196513593e-12)"
            ]
          },
          "metadata": {},
          "execution_count": 15
        }
      ]
    },
    {
      "cell_type": "code",
      "source": [
        "#Uji Normalitas Usia Mahasiswa\n",
        "usia = pd.read_excel('/content/drive/MyDrive/anova.xlsx', sheet_name='urut')\n",
        "jarque_bera(usia[\"Usia\"])"
      ],
      "metadata": {
        "colab": {
          "base_uri": "https://localhost:8080/"
        },
        "id": "x8j2QWT3b_4J",
        "outputId": "53350c3e-1227-480e-de00-6fb847fe9ac5"
      },
      "execution_count": null,
      "outputs": [
        {
          "output_type": "execute_result",
          "data": {
            "text/plain": [
              "Jarque_beraResult(statistic=13628.436720768, pvalue=0.0)"
            ]
          },
          "metadata": {},
          "execution_count": 14
        }
      ]
    },
    {
      "cell_type": "code",
      "source": [
        "#Uji Normalitas Games1\n",
        "games1 = pd.read_excel('/content/drive/MyDrive/anova.xlsx', sheet_name='urut')\n",
        "jarque_bera(games1[\"Games1\"])"
      ],
      "metadata": {
        "colab": {
          "base_uri": "https://localhost:8080/"
        },
        "id": "YYoMXn0VntKs",
        "outputId": "6e9e371f-9619-4f36-f263-75de481b4115"
      },
      "execution_count": null,
      "outputs": [
        {
          "output_type": "execute_result",
          "data": {
            "text/plain": [
              "Jarque_beraResult(statistic=59.068365900226105, pvalue=1.4910295220715852e-13)"
            ]
          },
          "metadata": {},
          "execution_count": 73
        }
      ]
    },
    {
      "cell_type": "code",
      "source": [
        "#Uji Normalitas Games2\n",
        "games2 = pd.read_excel('/content/drive/MyDrive/anova.xlsx', sheet_name='urut')\n",
        "jarque_bera(games2[\"Games2\"])"
      ],
      "metadata": {
        "colab": {
          "base_uri": "https://localhost:8080/"
        },
        "id": "FUmKXGpSn1vR",
        "outputId": "17fb70a8-ef82-4f7a-dc2f-e4cb4c216dbd"
      },
      "execution_count": null,
      "outputs": [
        {
          "output_type": "execute_result",
          "data": {
            "text/plain": [
              "Jarque_beraResult(statistic=55.400605769087505, pvalue=9.330314298949816e-13)"
            ]
          },
          "metadata": {},
          "execution_count": 74
        }
      ]
    },
    {
      "cell_type": "code",
      "source": [
        "#Uji Normalitas Waktu Medsos\n",
        "wMedsos = pd.read_excel('/content/drive/MyDrive/anova.xlsx', sheet_name='urut')\n",
        "jarque_bera(wMedsos[\"waktu_Medsos\"])"
      ],
      "metadata": {
        "colab": {
          "base_uri": "https://localhost:8080/"
        },
        "id": "lOIF7LAkoCjt",
        "outputId": "3a119b5f-7872-4c34-a76c-3af4d23bea65"
      },
      "execution_count": null,
      "outputs": [
        {
          "output_type": "execute_result",
          "data": {
            "text/plain": [
              "Jarque_beraResult(statistic=50.92977664468991, pvalue=8.724465594411868e-12)"
            ]
          },
          "metadata": {},
          "execution_count": 75
        }
      ]
    }
  ]
}